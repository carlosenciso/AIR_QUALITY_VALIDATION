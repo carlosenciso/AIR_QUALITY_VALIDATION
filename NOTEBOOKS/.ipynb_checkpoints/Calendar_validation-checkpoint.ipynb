{
 "cells": [
  {
   "cell_type": "code",
   "execution_count": 15,
   "metadata": {},
   "outputs": [],
   "source": [
    "import pandas as pd\n",
    "import numpy as np\n",
    "import requests\n",
    "import io\n",
    "import matplotlib.pyplot as plt\n",
    "plt.style.use('seaborn')"
   ]
  },
  {
   "cell_type": "code",
   "execution_count": 33,
   "metadata": {},
   "outputs": [],
   "source": [
    "data_links = 'https://avaa.tdata.fi/smear-services/smeardata.jsp?variables=pwd_smm&table=KUM_META&from=2018-01-01 00:00:00.102&to=2018-12-31 23:59:59.344&quality=ANY&averaging=NONE&type=NONE'\n",
    "\n",
    "with requests.get(data_links) as response:\n",
    "    df = response.content\n",
    "    df = pd.read_csv(io.StringIO(df.decode('utf-8')))"
   ]
  },
  {
   "cell_type": "code",
   "execution_count": 34,
   "metadata": {},
   "outputs": [],
   "source": [
    "df['Time'] = pd.to_datetime(df[['Year', 'Month', 'Day', 'Hour', 'Minute', 'Second']])\n",
    "df = df.drop(['Year', 'Month', 'Day', 'Hour', 'Minute', 'Second'], axis = 1)\n",
    "# Rename column to Temp\n",
    "df.rename(columns = {'KUM_META.pwd_smm' : 'Snow'}, inplace = True)"
   ]
  },
  {
   "cell_type": "code",
   "execution_count": 35,
   "metadata": {},
   "outputs": [],
   "source": [
    "df = df.groupby([df['Time'].dt.date]).mean()\n",
    "df.index = pd.to_datetime(df.index)"
   ]
  },
  {
   "cell_type": "code",
   "execution_count": 36,
   "metadata": {},
   "outputs": [],
   "source": [
    "df.loc[df.Snow == 0, 'mask'] = \"Not snowing\"\n",
    "df.loc[df.Snow != 0, 'mask'] = \"Snowing\""
   ]
  },
  {
   "cell_type": "code",
   "execution_count": 37,
   "metadata": {},
   "outputs": [
    {
     "data": {
      "text/html": [
       "<div>\n",
       "<style scoped>\n",
       "    .dataframe tbody tr th:only-of-type {\n",
       "        vertical-align: middle;\n",
       "    }\n",
       "\n",
       "    .dataframe tbody tr th {\n",
       "        vertical-align: top;\n",
       "    }\n",
       "\n",
       "    .dataframe thead th {\n",
       "        text-align: right;\n",
       "    }\n",
       "</style>\n",
       "<table border=\"1\" class=\"dataframe\">\n",
       "  <thead>\n",
       "    <tr style=\"text-align: right;\">\n",
       "      <th></th>\n",
       "      <th>Snow</th>\n",
       "      <th>mask</th>\n",
       "    </tr>\n",
       "    <tr>\n",
       "      <th>Time</th>\n",
       "      <th></th>\n",
       "      <th></th>\n",
       "    </tr>\n",
       "  </thead>\n",
       "  <tbody>\n",
       "    <tr>\n",
       "      <th>2018-01-01</th>\n",
       "      <td>0.025694</td>\n",
       "      <td>Snowing</td>\n",
       "    </tr>\n",
       "    <tr>\n",
       "      <th>2018-01-02</th>\n",
       "      <td>0.000000</td>\n",
       "      <td>Not snowing</td>\n",
       "    </tr>\n",
       "    <tr>\n",
       "      <th>2018-01-03</th>\n",
       "      <td>0.000000</td>\n",
       "      <td>Not snowing</td>\n",
       "    </tr>\n",
       "    <tr>\n",
       "      <th>2018-01-04</th>\n",
       "      <td>0.000000</td>\n",
       "      <td>Not snowing</td>\n",
       "    </tr>\n",
       "    <tr>\n",
       "      <th>2018-01-05</th>\n",
       "      <td>0.000000</td>\n",
       "      <td>Not snowing</td>\n",
       "    </tr>\n",
       "    <tr>\n",
       "      <th>...</th>\n",
       "      <td>...</td>\n",
       "      <td>...</td>\n",
       "    </tr>\n",
       "    <tr>\n",
       "      <th>2018-12-27</th>\n",
       "      <td>0.000000</td>\n",
       "      <td>Not snowing</td>\n",
       "    </tr>\n",
       "    <tr>\n",
       "      <th>2018-12-28</th>\n",
       "      <td>0.000000</td>\n",
       "      <td>Not snowing</td>\n",
       "    </tr>\n",
       "    <tr>\n",
       "      <th>2018-12-29</th>\n",
       "      <td>0.000695</td>\n",
       "      <td>Snowing</td>\n",
       "    </tr>\n",
       "    <tr>\n",
       "      <th>2018-12-30</th>\n",
       "      <td>0.000694</td>\n",
       "      <td>Snowing</td>\n",
       "    </tr>\n",
       "    <tr>\n",
       "      <th>2018-12-31</th>\n",
       "      <td>0.019444</td>\n",
       "      <td>Snowing</td>\n",
       "    </tr>\n",
       "  </tbody>\n",
       "</table>\n",
       "<p>365 rows × 2 columns</p>\n",
       "</div>"
      ],
      "text/plain": [
       "                Snow         mask\n",
       "Time                             \n",
       "2018-01-01  0.025694      Snowing\n",
       "2018-01-02  0.000000  Not snowing\n",
       "2018-01-03  0.000000  Not snowing\n",
       "2018-01-04  0.000000  Not snowing\n",
       "2018-01-05  0.000000  Not snowing\n",
       "...              ...          ...\n",
       "2018-12-27  0.000000  Not snowing\n",
       "2018-12-28  0.000000  Not snowing\n",
       "2018-12-29  0.000695      Snowing\n",
       "2018-12-30  0.000694      Snowing\n",
       "2018-12-31  0.019444      Snowing\n",
       "\n",
       "[365 rows x 2 columns]"
      ]
     },
     "execution_count": 37,
     "metadata": {},
     "output_type": "execute_result"
    }
   ],
   "source": [
    "df"
   ]
  },
  {
   "cell_type": "code",
   "execution_count": 39,
   "metadata": {},
   "outputs": [
    {
     "data": {
      "image/png": "[encoded data removed]",
      "text/plain": [
       "<Figure size 2000x600 with 3 Axes>"
      ]
     },
     "metadata": {},
     "output_type": "display_data"
    }
   ],
   "source": [
    "from matplotlib import colors\n",
    "# Make dataframe for the calendar plot\n",
    "value_to_int = {j:i+1 for i,j in enumerate(pd.unique(df['mask'].ravel()))}\n",
    "df = df.replace(value_to_int)\n",
    "cal = {'2018': df[df.index.year == 2018], '2019': df[df.index.year == 2019]}\n",
    "# Define Ticks\n",
    "DAYS = ['Sun', 'Mon', 'Tues', 'Wed', 'Thurs', 'Fri', 'Sat']\n",
    "MONTHS = ['Jan', 'Feb', 'Mar', 'Apr', 'May', 'June', 'July', 'Aug', 'Sept', 'Oct', 'Nov', 'Dec']\n",
    "\n",
    "fig, ax = plt.subplots(1, 2, figsize = (20,6))\n",
    "for i, val in enumerate(['2018','2018']):\n",
    "    start = cal.get(val).index.min()\n",
    "    end = cal.get(val).index.max()\n",
    "    start_sun = start - np.timedelta64((start.dayofweek + 1) % 7, 'D')\n",
    "    end_sun =  end + np.timedelta64(7 - end.dayofweek -1, 'D')\n",
    "\n",
    "    num_weeks = (end_sun - start_sun).days // 7\n",
    "    heatmap = np.full([7, num_weeks], np.nan)\n",
    "    ticks = {}\n",
    "    y = np.arange(8) - 0.5\n",
    "    x = np.arange(num_weeks + 1) - 0.5\n",
    "    for week in range(num_weeks):\n",
    "        for day in range(7):\n",
    "            date = start_sun + np.timedelta64(7 * week + day, 'D')\n",
    "            if date.day == 1:\n",
    "                ticks[week] = MONTHS[date.month - 1]\n",
    "            if date.dayofyear == 1:\n",
    "                ticks[week] += f'\\n{date.year}'\n",
    "            if start <= date < end:\n",
    "                heatmap[day, week] = cal.get(val).loc[date, 'mask']\n",
    "\n",
    "    cmap = colors.ListedColormap(['tab:green', 'whitesmoke'])\n",
    "    mesh = ax[i].pcolormesh(x, y, heatmap, cmap = cmap, edgecolors = 'grey')\n",
    "\n",
    "    ax[i].invert_yaxis()\n",
    "        # Hatch for out of bound values in a year\n",
    "    ax[i].patch.set(hatch='xx', edgecolor='black')\n",
    "\n",
    "    # Set the ticks.\n",
    "    ax[i].set_xticks(list(ticks.keys()))\n",
    "    ax[i].set_xticklabels(list(ticks.values()))\n",
    "    ax[i].set_yticks(np.arange(7))\n",
    "    ax[i].set_yticklabels(DAYS)\n",
    "    ax[i].set_ylim(6.5,-0.5)\n",
    "    ax[i].set_aspect('equal')\n",
    "    ax[i].set_title(val, fontsize = 15)\n",
    "\n",
    "# Add color bar at the bottom\n",
    "cbar_ax = fig.add_axes([0.25, -0.10, 0.20, 0.05])\n",
    "fig.colorbar(mesh, orientation=\"horizontal\", pad=0.2, cax = cbar_ax)\n",
    "n = len(value_to_int)\n",
    "colorbar = ax[1].collections[0].colorbar\n",
    "r = colorbar.vmax - colorbar.vmin\n",
    "colorbar.set_ticks([colorbar.vmin + r / n * (0.5 + i) for i in range(n)])\n",
    "colorbar.set_ticklabels(list(value_to_int.keys()))    \n",
    "fig.suptitle('Frequency of snow', fontweight = 'bold', fontsize = 25)\n",
    "fig.subplots_adjust(hspace = 0.5)"
   ]
  },
  {
   "cell_type": "code",
   "execution_count": null,
   "metadata": {},
   "outputs": [],
   "source": []
  }
 ],
 "metadata": {
  "kernelspec": {
   "display_name": "pangeo",
   "language": "python",
   "name": "pangeo"
  },
  "language_info": {
   "codemirror_mode": {
    "name": "ipython",
    "version": 3
   },
   "file_extension": ".py",
   "mimetype": "text/x-python",
   "name": "python",
   "nbconvert_exporter": "python",
   "pygments_lexer": "ipython3",
   "version": "3.8.6"
  }
 },
 "nbformat": 4,
 "nbformat_minor": 4
}
